{
 "cells": [
  {
   "cell_type": "markdown",
   "id": "a02211e6",
   "metadata": {},
   "source": [
    "# Importing the libraries"
   ]
  },
  {
   "cell_type": "code",
   "execution_count": 4,
   "id": "bb9bddd5",
   "metadata": {},
   "outputs": [],
   "source": [
    "import gspread\n",
    "from oauth2client.service_account import ServiceAccountCredentials\n",
    "import pandas as pd"
   ]
  },
  {
   "cell_type": "markdown",
   "id": "785b403b",
   "metadata": {},
   "source": [
    "# adding the JSON file that has the credentials to access the API"
   ]
  },
  {
   "cell_type": "code",
   "execution_count": 5,
   "id": "71f15543",
   "metadata": {},
   "outputs": [],
   "source": [
    "scope = ['https://spreadsheets.google.com/feeds',\n",
    "         'https://www.googleapis.com/auth/drive']"
   ]
  },
  {
   "cell_type": "code",
   "execution_count": 6,
   "id": "e6520bf9",
   "metadata": {},
   "outputs": [
    {
     "data": {
      "text/plain": [
       "['https://spreadsheets.google.com/feeds',\n",
       " 'https://www.googleapis.com/auth/drive']"
      ]
     },
     "execution_count": 6,
     "metadata": {},
     "output_type": "execute_result"
    }
   ],
   "source": [
    "scope"
   ]
  },
  {
   "cell_type": "code",
   "execution_count": 7,
   "id": "68c8bb1c",
   "metadata": {},
   "outputs": [],
   "source": [
    "credentials = ServiceAccountCredentials.from_json_keyfile_name(\n",
    "         'shashank.json', scope)"
   ]
  },
  {
   "cell_type": "code",
   "execution_count": 8,
   "id": "2e30b642",
   "metadata": {},
   "outputs": [
    {
     "data": {
      "text/plain": [
       "<oauth2client.service_account.ServiceAccountCredentials at 0x2647c8d6dc0>"
      ]
     },
     "execution_count": 8,
     "metadata": {},
     "output_type": "execute_result"
    }
   ],
   "source": [
    "credentials"
   ]
  },
  {
   "cell_type": "code",
   "execution_count": 9,
   "id": "f5c36fe1",
   "metadata": {},
   "outputs": [],
   "source": [
    "gc = gspread.authorize(credentials)"
   ]
  },
  {
   "cell_type": "code",
   "execution_count": 10,
   "id": "f875fa3d",
   "metadata": {},
   "outputs": [
    {
     "data": {
      "text/plain": [
       "<gspread.client.Client at 0x2647c8d6f40>"
      ]
     },
     "execution_count": 10,
     "metadata": {},
     "output_type": "execute_result"
    }
   ],
   "source": [
    "gc"
   ]
  },
  {
   "cell_type": "markdown",
   "id": "e4e10ac6",
   "metadata": {},
   "source": [
    "# Creating the object of sheet"
   ]
  },
  {
   "cell_type": "code",
   "execution_count": 22,
   "id": "e4d20ed0",
   "metadata": {},
   "outputs": [],
   "source": [
    "restaurant = gc.open(\"RTB\").sheet1"
   ]
  },
  {
   "cell_type": "code",
   "execution_count": 23,
   "id": "a03362bc",
   "metadata": {},
   "outputs": [
    {
     "data": {
      "text/plain": [
       "<Worksheet 'Sheet1' id:0>"
      ]
     },
     "execution_count": 23,
     "metadata": {},
     "output_type": "execute_result"
    }
   ],
   "source": [
    "restaurant"
   ]
  },
  {
   "cell_type": "code",
   "execution_count": 24,
   "id": "fa6ad5e0",
   "metadata": {},
   "outputs": [],
   "source": [
    "data = restaurant.get_all_values()\n",
    "headers = data.pop(0)"
   ]
  },
  {
   "cell_type": "markdown",
   "id": "4298a7af",
   "metadata": {},
   "source": [
    "# Getting all the data from sheet"
   ]
  },
  {
   "cell_type": "code",
   "execution_count": 18,
   "id": "1c8f4af6",
   "metadata": {},
   "outputs": [
    {
     "data": {
      "text/plain": [
       "[{'name': 'Namo Sandwich',\n",
       "  'locality': 'Sudama Nagar',\n",
       "  'latitude': 22.69633146,\n",
       "  'longitude': 75.83485689,\n",
       "  'cuisines': 'Fast Food',\n",
       "  'average_cost_for_two': 500,\n",
       "  'aggregate_rating': 4.3,\n",
       "  'votes': 860,\n",
       "  'rating_text': 'Very Good'},\n",
       " {'name': 'Bake N Shake',\n",
       "  'locality': 'BCM Heights, Vijay Nagar',\n",
       "  'latitude': 22.75570457,\n",
       "  'longitude': 75.89528706,\n",
       "  'cuisines': 'Cafe, Fast Food, Bakery',\n",
       "  'average_cost_for_two': 500,\n",
       "  'aggregate_rating': 4.2,\n",
       "  'votes': 683,\n",
       "  'rating_text': 'Very Good'},\n",
       " {'name': 'Shree Gurukripa',\n",
       "  'locality': 'Sarwate Bus Stand',\n",
       "  'latitude': 22.71408953,\n",
       "  'longitude': 75.86885054,\n",
       "  'cuisines': 'North Indian',\n",
       "  'average_cost_for_two': 350,\n",
       "  'aggregate_rating': 4.3,\n",
       "  'votes': 2030,\n",
       "  'rating_text': 'Very Good'},\n",
       " {'name': 'Nafees Restaurant',\n",
       "  'locality': 'Old Palasia',\n",
       "  'latitude': 22.72571214,\n",
       "  'longitude': 75.88775709,\n",
       "  'cuisines': 'North Indian, Mughlai',\n",
       "  'average_cost_for_two': 800,\n",
       "  'aggregate_rating': 4.3,\n",
       "  'votes': 2987,\n",
       "  'rating_text': 'Very Good'},\n",
       " {'name': 'Hotel Guru Kripa',\n",
       "  'locality': 'Sarwate Bus Stand',\n",
       "  'latitude': 22.71408551,\n",
       "  'longitude': 75.86884584,\n",
       "  'cuisines': 'North Indian',\n",
       "  'average_cost_for_two': 350,\n",
       "  'aggregate_rating': 4.3,\n",
       "  'votes': 3441,\n",
       "  'rating_text': 'Very Good'},\n",
       " {'name': 'Shree Gurukripa',\n",
       "  'locality': 'Vijay Nagar',\n",
       "  'latitude': 22.75322076,\n",
       "  'longitude': 75.9021484,\n",
       "  'cuisines': 'North Indian',\n",
       "  'average_cost_for_two': 500,\n",
       "  'aggregate_rating': 4.1,\n",
       "  'votes': 1451,\n",
       "  'rating_text': 'Very Good'},\n",
       " {'name': 'Hotel Guru Kripa Avenue',\n",
       "  'locality': 'Sarwate Bus Stand',\n",
       "  'latitude': 22.71409403,\n",
       "  'longitude': 75.86911564,\n",
       "  'cuisines': 'North Indian',\n",
       "  'average_cost_for_two': 350,\n",
       "  'aggregate_rating': 4.1,\n",
       "  'votes': 1354,\n",
       "  'rating_text': 'Very Good'},\n",
       " {'name': 'Maa Ki Rasoi',\n",
       "  'locality': 'Sudama Nagar',\n",
       "  'latitude': 22.6846581,\n",
       "  'longitude': 75.82895,\n",
       "  'cuisines': 'North Indian, South Indian',\n",
       "  'average_cost_for_two': 450,\n",
       "  'aggregate_rating': 4.1,\n",
       "  'votes': 541,\n",
       "  'rating_text': 'Very Good'},\n",
       " {'name': 'Apna Sweets',\n",
       "  'locality': 'Vijay Nagar',\n",
       "  'latitude': 22.74956011,\n",
       "  'longitude': 75.89528974,\n",
       "  'cuisines': 'Mithai, North Indian, South Indian, Beverages',\n",
       "  'average_cost_for_two': 400,\n",
       "  'aggregate_rating': 4.3,\n",
       "  'votes': 2619,\n",
       "  'rating_text': 'Very Good'},\n",
       " {'name': 'Dutt Guru Kripa',\n",
       "  'locality': 'South Tukoganj',\n",
       "  'latitude': 22.71977664,\n",
       "  'longitude': 75.87688342,\n",
       "  'cuisines': 'North Indian, Fast Food',\n",
       "  'average_cost_for_two': 450,\n",
       "  'aggregate_rating': 4.1,\n",
       "  'votes': 1261,\n",
       "  'rating_text': 'Very Good'},\n",
       " {'name': 'Oye24',\n",
       "  'locality': 'HIG-LIG',\n",
       "  'latitude': 22.73416947,\n",
       "  'longitude': 75.87423574,\n",
       "  'cuisines': 'North Indian, Chinese',\n",
       "  'average_cost_for_two': 250,\n",
       "  'aggregate_rating': 4.1,\n",
       "  'votes': 1460,\n",
       "  'rating_text': 'Very Good'},\n",
       " {'name': 'Mitti - Organic. Fresh. Desi.',\n",
       "  'locality': 'Old Palasia',\n",
       "  'latitude': 22.72509334,\n",
       "  'longitude': 75.89026932,\n",
       "  'cuisines': 'Cafe, North Indian',\n",
       "  'average_cost_for_two': 600,\n",
       "  'aggregate_rating': 4.3,\n",
       "  'votes': 590,\n",
       "  'rating_text': 'Very Good'},\n",
       " {'name': 'SD 21 - Hotel Somdeep Palace',\n",
       "  'locality': ' Hotel Somdeep Palace, Vijay Nagar',\n",
       "  'latitude': 22.75003503,\n",
       "  'longitude': 75.90348154,\n",
       "  'cuisines': 'North Indian, Chinese',\n",
       "  'average_cost_for_two': 1100,\n",
       "  'aggregate_rating': 4.6,\n",
       "  'votes': 959,\n",
       "  'rating_text': 'Excellent'},\n",
       " {'name': 'Sagar Gaire',\n",
       "  'locality': 'New Palasia',\n",
       "  'latitude': 22.72554639,\n",
       "  'longitude': 75.88351585,\n",
       "  'cuisines': 'South Indian, North Indian, Fast Food',\n",
       "  'average_cost_for_two': 450,\n",
       "  'aggregate_rating': 4.1,\n",
       "  'votes': 2932,\n",
       "  'rating_text': 'Very Good'},\n",
       " {'name': \"Domino's Pizza\",\n",
       "  'locality': 'Sapna Sangeeta Mall, Sapna Sangeeta',\n",
       "  'latitude': 22.69901566,\n",
       "  'longitude': 75.86720265,\n",
       "  'cuisines': 'Pizza, Fast Food',\n",
       "  'average_cost_for_two': 400,\n",
       "  'aggregate_rating': 3.9,\n",
       "  'votes': 1437,\n",
       "  'rating_text': 'Good'},\n",
       " {'name': 'Cravings - Sayaji Hotel',\n",
       "  'locality': 'Sayaji Hotel, Vijay Nagar',\n",
       "  'latitude': 22.75243589,\n",
       "  'longitude': 75.88778827,\n",
       "  'cuisines': 'North Indian, Chinese, Italian',\n",
       "  'average_cost_for_two': 1800,\n",
       "  'aggregate_rating': 4.7,\n",
       "  'votes': 658,\n",
       "  'rating_text': 'Excellent'}]"
      ]
     },
     "execution_count": 18,
     "metadata": {},
     "output_type": "execute_result"
    }
   ],
   "source": [
    "records_data = wks.get_all_records()\n",
    "records_data"
   ]
  },
  {
   "cell_type": "code",
   "execution_count": 25,
   "id": "5043074e",
   "metadata": {},
   "outputs": [
    {
     "name": "stdout",
     "output_type": "stream",
     "text": [
      "                name                  locality     latitude    longitude  \\\n",
      "0      Namo Sandwich              Sudama Nagar  22.69633146  75.83485689   \n",
      "1       Bake N Shake  BCM Heights, Vijay Nagar  22.75570457  75.89528706   \n",
      "2    Shree Gurukripa         Sarwate Bus Stand  22.71408953  75.86885054   \n",
      "3  Nafees Restaurant               Old Palasia  22.72571214  75.88775709   \n",
      "4   Hotel Guru Kripa         Sarwate Bus Stand  22.71408551  75.86884584   \n",
      "\n",
      "                  cuisines average_cost_for_two aggregate_rating votes  \\\n",
      "0                Fast Food                  500              4.3   860   \n",
      "1  Cafe, Fast Food, Bakery                  500              4.2   683   \n",
      "2             North Indian                  350              4.3  2030   \n",
      "3    North Indian, Mughlai                  800              4.3  2987   \n",
      "4             North Indian                  350              4.3  3441   \n",
      "\n",
      "  rating_text  \n",
      "0   Very Good  \n",
      "1   Very Good  \n",
      "2   Very Good  \n",
      "3   Very Good  \n",
      "4   Very Good  \n"
     ]
    }
   ],
   "source": [
    "df = pd.DataFrame(data, columns=headers)\n",
    "print(df.head())"
   ]
  },
  {
   "cell_type": "code",
   "execution_count": 26,
   "id": "7e543de5",
   "metadata": {},
   "outputs": [
    {
     "data": {
      "text/html": [
       "<div>\n",
       "<style scoped>\n",
       "    .dataframe tbody tr th:only-of-type {\n",
       "        vertical-align: middle;\n",
       "    }\n",
       "\n",
       "    .dataframe tbody tr th {\n",
       "        vertical-align: top;\n",
       "    }\n",
       "\n",
       "    .dataframe thead th {\n",
       "        text-align: right;\n",
       "    }\n",
       "</style>\n",
       "<table border=\"1\" class=\"dataframe\">\n",
       "  <thead>\n",
       "    <tr style=\"text-align: right;\">\n",
       "      <th></th>\n",
       "      <th>name</th>\n",
       "      <th>locality</th>\n",
       "      <th>latitude</th>\n",
       "      <th>longitude</th>\n",
       "      <th>cuisines</th>\n",
       "      <th>average_cost_for_two</th>\n",
       "      <th>aggregate_rating</th>\n",
       "      <th>votes</th>\n",
       "      <th>rating_text</th>\n",
       "    </tr>\n",
       "  </thead>\n",
       "  <tbody>\n",
       "    <tr>\n",
       "      <th>0</th>\n",
       "      <td>Namo Sandwich</td>\n",
       "      <td>Sudama Nagar</td>\n",
       "      <td>22.696331</td>\n",
       "      <td>75.834857</td>\n",
       "      <td>Fast Food</td>\n",
       "      <td>500</td>\n",
       "      <td>4.3</td>\n",
       "      <td>860</td>\n",
       "      <td>Very Good</td>\n",
       "    </tr>\n",
       "    <tr>\n",
       "      <th>1</th>\n",
       "      <td>Bake N Shake</td>\n",
       "      <td>BCM Heights, Vijay Nagar</td>\n",
       "      <td>22.755705</td>\n",
       "      <td>75.895287</td>\n",
       "      <td>Cafe, Fast Food, Bakery</td>\n",
       "      <td>500</td>\n",
       "      <td>4.2</td>\n",
       "      <td>683</td>\n",
       "      <td>Very Good</td>\n",
       "    </tr>\n",
       "    <tr>\n",
       "      <th>2</th>\n",
       "      <td>Shree Gurukripa</td>\n",
       "      <td>Sarwate Bus Stand</td>\n",
       "      <td>22.714090</td>\n",
       "      <td>75.868851</td>\n",
       "      <td>North Indian</td>\n",
       "      <td>350</td>\n",
       "      <td>4.3</td>\n",
       "      <td>2030</td>\n",
       "      <td>Very Good</td>\n",
       "    </tr>\n",
       "    <tr>\n",
       "      <th>3</th>\n",
       "      <td>Nafees Restaurant</td>\n",
       "      <td>Old Palasia</td>\n",
       "      <td>22.725712</td>\n",
       "      <td>75.887757</td>\n",
       "      <td>North Indian, Mughlai</td>\n",
       "      <td>800</td>\n",
       "      <td>4.3</td>\n",
       "      <td>2987</td>\n",
       "      <td>Very Good</td>\n",
       "    </tr>\n",
       "    <tr>\n",
       "      <th>4</th>\n",
       "      <td>Hotel Guru Kripa</td>\n",
       "      <td>Sarwate Bus Stand</td>\n",
       "      <td>22.714086</td>\n",
       "      <td>75.868846</td>\n",
       "      <td>North Indian</td>\n",
       "      <td>350</td>\n",
       "      <td>4.3</td>\n",
       "      <td>3441</td>\n",
       "      <td>Very Good</td>\n",
       "    </tr>\n",
       "  </tbody>\n",
       "</table>\n",
       "</div>"
      ],
      "text/plain": [
       "                name                  locality   latitude  longitude  \\\n",
       "0      Namo Sandwich              Sudama Nagar  22.696331  75.834857   \n",
       "1       Bake N Shake  BCM Heights, Vijay Nagar  22.755705  75.895287   \n",
       "2    Shree Gurukripa         Sarwate Bus Stand  22.714090  75.868851   \n",
       "3  Nafees Restaurant               Old Palasia  22.725712  75.887757   \n",
       "4   Hotel Guru Kripa         Sarwate Bus Stand  22.714086  75.868846   \n",
       "\n",
       "                  cuisines  average_cost_for_two  aggregate_rating  votes  \\\n",
       "0                Fast Food                   500               4.3    860   \n",
       "1  Cafe, Fast Food, Bakery                   500               4.2    683   \n",
       "2             North Indian                   350               4.3   2030   \n",
       "3    North Indian, Mughlai                   800               4.3   2987   \n",
       "4             North Indian                   350               4.3   3441   \n",
       "\n",
       "  rating_text  \n",
       "0   Very Good  \n",
       "1   Very Good  \n",
       "2   Very Good  \n",
       "3   Very Good  \n",
       "4   Very Good  "
      ]
     },
     "execution_count": 26,
     "metadata": {},
     "output_type": "execute_result"
    }
   ],
   "source": [
    "records_df = pd.DataFrame.from_dict(records_data)\n",
    "records_df.head()"
   ]
  },
  {
   "cell_type": "code",
   "execution_count": 33,
   "id": "aa09bb5c",
   "metadata": {},
   "outputs": [
    {
     "ename": "AttributeError",
     "evalue": "'Worksheet' object has no attribute 'add_worksheet'",
     "output_type": "error",
     "traceback": [
      "\u001b[1;31m---------------------------------------------------------------------------\u001b[0m",
      "\u001b[1;31mAttributeError\u001b[0m                            Traceback (most recent call last)",
      "\u001b[1;32m<ipython-input-33-c367c5abe420>\u001b[0m in \u001b[0;36m<module>\u001b[1;34m\u001b[0m\n\u001b[1;32m----> 1\u001b[1;33m \u001b[0mworksheet\u001b[0m \u001b[1;33m=\u001b[0m \u001b[0mwks\u001b[0m\u001b[1;33m.\u001b[0m\u001b[0madd_worksheet\u001b[0m\u001b[1;33m(\u001b[0m\u001b[0mname\u001b[0m\u001b[1;33m=\u001b[0m\u001b[1;34m'test'\u001b[0m\u001b[1;33m)\u001b[0m\u001b[1;33m\u001b[0m\u001b[1;33m\u001b[0m\u001b[0m\n\u001b[0m",
      "\u001b[1;31mAttributeError\u001b[0m: 'Worksheet' object has no attribute 'add_worksheet'"
     ]
    }
   ],
   "source": [
    "worksheet = wks.add_worksheet(name='test')"
   ]
  },
  {
   "cell_type": "code",
   "execution_count": null,
   "id": "b393f781",
   "metadata": {},
   "outputs": [],
   "source": []
  }
 ],
 "metadata": {
  "kernelspec": {
   "display_name": "Python 3",
   "language": "python",
   "name": "python3"
  },
  "language_info": {
   "codemirror_mode": {
    "name": "ipython",
    "version": 3
   },
   "file_extension": ".py",
   "mimetype": "text/x-python",
   "name": "python",
   "nbconvert_exporter": "python",
   "pygments_lexer": "ipython3",
   "version": "3.8.8"
  }
 },
 "nbformat": 4,
 "nbformat_minor": 5
}
