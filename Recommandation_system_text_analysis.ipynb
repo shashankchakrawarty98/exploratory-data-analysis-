{
 "cells": [
  {
   "cell_type": "code",
   "execution_count": 15,
   "metadata": {
    "id": "G_JvROz_nYv4"
   },
   "outputs": [],
   "source": [
    "import pandas as pd "
   ]
  },
  {
   "cell_type": "code",
   "execution_count": 16,
   "metadata": {
    "id": "3Y7ieqU3nnyN"
   },
   "outputs": [],
   "source": [
    "data = pd.read_csv(\"/content/rest and city.csv\")"
   ]
  },
  {
   "cell_type": "code",
   "execution_count": 17,
   "metadata": {
    "colab": {
     "base_uri": "https://localhost:8080/",
     "height": 607
    },
    "id": "2Qcn2vCBoBep",
    "outputId": "1aefc9d6-7f34-4f75-c976-dfd4c5028453"
   },
   "outputs": [
    {
     "data": {
      "text/html": [
       "<div>\n",
       "<style scoped>\n",
       "    .dataframe tbody tr th:only-of-type {\n",
       "        vertical-align: middle;\n",
       "    }\n",
       "\n",
       "    .dataframe tbody tr th {\n",
       "        vertical-align: top;\n",
       "    }\n",
       "\n",
       "    .dataframe thead th {\n",
       "        text-align: right;\n",
       "    }\n",
       "</style>\n",
       "<table border=\"1\" class=\"dataframe\">\n",
       "  <thead>\n",
       "    <tr style=\"text-align: right;\">\n",
       "      <th></th>\n",
       "      <th>Restaurant</th>\n",
       "      <th>City</th>\n",
       "    </tr>\n",
       "  </thead>\n",
       "  <tbody>\n",
       "    <tr>\n",
       "      <th>0</th>\n",
       "      <td>Nafees</td>\n",
       "      <td>Indore</td>\n",
       "    </tr>\n",
       "    <tr>\n",
       "      <th>1</th>\n",
       "      <td>The Lalit</td>\n",
       "      <td>Jaipur</td>\n",
       "    </tr>\n",
       "    <tr>\n",
       "      <th>2</th>\n",
       "      <td>Hotel Mayur</td>\n",
       "      <td>Udaipur</td>\n",
       "    </tr>\n",
       "    <tr>\n",
       "      <th>3</th>\n",
       "      <td>Hotel  Balaji Central</td>\n",
       "      <td>Ratlam</td>\n",
       "    </tr>\n",
       "    <tr>\n",
       "      <th>4</th>\n",
       "      <td>Hotel Sayaji</td>\n",
       "      <td>Indore</td>\n",
       "    </tr>\n",
       "    <tr>\n",
       "      <th>5</th>\n",
       "      <td>Radisson Blu</td>\n",
       "      <td>Jaipur</td>\n",
       "    </tr>\n",
       "    <tr>\n",
       "      <th>6</th>\n",
       "      <td>Four Seasons Hotel</td>\n",
       "      <td>Mumbai</td>\n",
       "    </tr>\n",
       "    <tr>\n",
       "      <th>7</th>\n",
       "      <td>Hyatt</td>\n",
       "      <td>Pune</td>\n",
       "    </tr>\n",
       "    <tr>\n",
       "      <th>8</th>\n",
       "      <td>Hotel Lake View Ashok</td>\n",
       "      <td>Bhopal</td>\n",
       "    </tr>\n",
       "    <tr>\n",
       "      <th>9</th>\n",
       "      <td>Hotel Amar Vilas</td>\n",
       "      <td>Indore</td>\n",
       "    </tr>\n",
       "    <tr>\n",
       "      <th>10</th>\n",
       "      <td>Hotel Goyal</td>\n",
       "      <td>Jaipur</td>\n",
       "    </tr>\n",
       "    <tr>\n",
       "      <th>11</th>\n",
       "      <td>Hotel Sea Princess</td>\n",
       "      <td>Mumbai</td>\n",
       "    </tr>\n",
       "    <tr>\n",
       "      <th>12</th>\n",
       "      <td>Hotel Rajmahal</td>\n",
       "      <td>Bangalore</td>\n",
       "    </tr>\n",
       "    <tr>\n",
       "      <th>13</th>\n",
       "      <td>The Orchid Hotel</td>\n",
       "      <td>Pune</td>\n",
       "    </tr>\n",
       "    <tr>\n",
       "      <th>14</th>\n",
       "      <td>Hotel Jahanuma</td>\n",
       "      <td>Bhopal</td>\n",
       "    </tr>\n",
       "    <tr>\n",
       "      <th>15</th>\n",
       "      <td>Ginger</td>\n",
       "      <td>Mumbai</td>\n",
       "    </tr>\n",
       "    <tr>\n",
       "      <th>16</th>\n",
       "      <td>Royal Orchid Central</td>\n",
       "      <td>Bengaluru</td>\n",
       "    </tr>\n",
       "    <tr>\n",
       "      <th>17</th>\n",
       "      <td>The Pride Hotel</td>\n",
       "      <td>Pune</td>\n",
       "    </tr>\n",
       "  </tbody>\n",
       "</table>\n",
       "</div>"
      ],
      "text/plain": [
       "               Restaurant       City\n",
       "0                  Nafees     Indore\n",
       "1               The Lalit     Jaipur\n",
       "2             Hotel Mayur    Udaipur\n",
       "3   Hotel  Balaji Central     Ratlam\n",
       "4            Hotel Sayaji     Indore\n",
       "5            Radisson Blu     Jaipur\n",
       "6      Four Seasons Hotel     Mumbai\n",
       "7                   Hyatt       Pune\n",
       "8   Hotel Lake View Ashok     Bhopal\n",
       "9        Hotel Amar Vilas     Indore\n",
       "10            Hotel Goyal     Jaipur\n",
       "11     Hotel Sea Princess     Mumbai\n",
       "12         Hotel Rajmahal  Bangalore\n",
       "13       The Orchid Hotel       Pune\n",
       "14         Hotel Jahanuma     Bhopal\n",
       "15                 Ginger     Mumbai\n",
       "16   Royal Orchid Central  Bengaluru\n",
       "17        The Pride Hotel       Pune"
      ]
     },
     "execution_count": 17,
     "metadata": {},
     "output_type": "execute_result"
    }
   ],
   "source": [
    "data"
   ]
  },
  {
   "cell_type": "code",
   "execution_count": 18,
   "metadata": {
    "colab": {
     "base_uri": "https://localhost:8080/",
     "height": 204
    },
    "id": "ODUXgYRooKdK",
    "outputId": "57602f98-7415-4e9f-b188-3dacf7611889"
   },
   "outputs": [
    {
     "data": {
      "text/html": [
       "<div>\n",
       "<style scoped>\n",
       "    .dataframe tbody tr th:only-of-type {\n",
       "        vertical-align: middle;\n",
       "    }\n",
       "\n",
       "    .dataframe tbody tr th {\n",
       "        vertical-align: top;\n",
       "    }\n",
       "\n",
       "    .dataframe thead th {\n",
       "        text-align: right;\n",
       "    }\n",
       "</style>\n",
       "<table border=\"1\" class=\"dataframe\">\n",
       "  <thead>\n",
       "    <tr style=\"text-align: right;\">\n",
       "      <th></th>\n",
       "      <th>Restaurant</th>\n",
       "      <th>City</th>\n",
       "    </tr>\n",
       "  </thead>\n",
       "  <tbody>\n",
       "    <tr>\n",
       "      <th>0</th>\n",
       "      <td>Nafees</td>\n",
       "      <td>Indore</td>\n",
       "    </tr>\n",
       "    <tr>\n",
       "      <th>1</th>\n",
       "      <td>The Lalit</td>\n",
       "      <td>Jaipur</td>\n",
       "    </tr>\n",
       "    <tr>\n",
       "      <th>2</th>\n",
       "      <td>Hotel Mayur</td>\n",
       "      <td>Udaipur</td>\n",
       "    </tr>\n",
       "    <tr>\n",
       "      <th>3</th>\n",
       "      <td>Hotel  Balaji Central</td>\n",
       "      <td>Ratlam</td>\n",
       "    </tr>\n",
       "    <tr>\n",
       "      <th>4</th>\n",
       "      <td>Hotel Sayaji</td>\n",
       "      <td>Indore</td>\n",
       "    </tr>\n",
       "  </tbody>\n",
       "</table>\n",
       "</div>"
      ],
      "text/plain": [
       "              Restaurant     City\n",
       "0                 Nafees   Indore\n",
       "1              The Lalit   Jaipur\n",
       "2            Hotel Mayur  Udaipur\n",
       "3  Hotel  Balaji Central   Ratlam\n",
       "4           Hotel Sayaji   Indore"
      ]
     },
     "execution_count": 18,
     "metadata": {},
     "output_type": "execute_result"
    }
   ],
   "source": [
    "data.head()"
   ]
  },
  {
   "cell_type": "code",
   "execution_count": 19,
   "metadata": {
    "id": "3IQvkuPyoTVm"
   },
   "outputs": [],
   "source": [
    "from geopy.geocoders import Nominatim"
   ]
  },
  {
   "cell_type": "code",
   "execution_count": 68,
   "metadata": {
    "id": "vO7ieQQaobwC"
   },
   "outputs": [],
   "source": [
    "geocoder = Nominatim(user_agent = \"urvashi\")"
   ]
  },
  {
   "cell_type": "code",
   "execution_count": 21,
   "metadata": {
    "id": "Y4bDHqrTrZ3W"
   },
   "outputs": [],
   "source": [
    "from geopy.extra.rate_limiter import RateLimiter\n",
    "geocode = RateLimiter(geocoder.geocode, min_delay_seconds = 1, return_value_on_exception = None)"
   ]
  },
  {
   "cell_type": "code",
   "execution_count": 22,
   "metadata": {
    "colab": {
     "base_uri": "https://localhost:8080/"
    },
    "id": "Aae1qrrCppLj",
    "outputId": "7fbcda26-4ec5-4771-941f-ab56cbb0a785"
   },
   "outputs": [
    {
     "data": {
      "text/plain": [
       "Location(Sayaji VijayNagar Bus Stop, MR10, Indore, Indore Tahsil, Indore, Madhya Pradesh, 452001, India, (22.7521786, 75.8910442, 0.0))"
      ]
     },
     "execution_count": 22,
     "metadata": {},
     "output_type": "execute_result"
    }
   ],
   "source": [
    "geocode(\"Hotel Sayaji Indore\")"
   ]
  },
  {
   "cell_type": "code",
   "execution_count": 23,
   "metadata": {
    "id": "JRf4GVncpphi"
   },
   "outputs": [],
   "source": [
    "data [\"Location\"] =data[\"Restaurant\"] +\" \" +data[\"City\"]"
   ]
  },
  {
   "cell_type": "code",
   "execution_count": 24,
   "metadata": {
    "colab": {
     "base_uri": "https://localhost:8080/"
    },
    "id": "Y6nv3Fb6qZV9",
    "outputId": "a3cf430d-df91-4aad-d6f9-e75155b23bbd"
   },
   "outputs": [
    {
     "data": {
      "text/plain": [
       "Location(Amar Vilas, MR 9, Indore, Indore Tahsil, Indore, Madhya Pradesh, 452001, India, (22.7421334, 75.8932362, 0.0))"
      ]
     },
     "execution_count": 24,
     "metadata": {},
     "output_type": "execute_result"
    }
   ],
   "source": [
    "geocode(\"Hotel Amar Vilas Indore\")"
   ]
  },
  {
   "cell_type": "code",
   "execution_count": 25,
   "metadata": {
    "id": "yx0RjSeQrx8-"
   },
   "outputs": [],
   "source": [
    "data['Latitude']=data['Location'].apply(lambda x: geocode(x).latitude)"
   ]
  },
  {
   "cell_type": "code",
   "execution_count": 26,
   "metadata": {
    "id": "H66cCawmr87Y"
   },
   "outputs": [],
   "source": [
    "data['Latitude']=data['Location'].apply(lambda x: geocode(x).latitude)"
   ]
  },
  {
   "cell_type": "code",
   "execution_count": 27,
   "metadata": {
    "colab": {
     "base_uri": "https://localhost:8080/",
     "height": 204
    },
    "id": "dpaYw0N-sQLV",
    "outputId": "4c0f83d0-fc10-45ab-e991-79e37e4ec230"
   },
   "outputs": [
    {
     "data": {
      "text/html": [
       "<div>\n",
       "<style scoped>\n",
       "    .dataframe tbody tr th:only-of-type {\n",
       "        vertical-align: middle;\n",
       "    }\n",
       "\n",
       "    .dataframe tbody tr th {\n",
       "        vertical-align: top;\n",
       "    }\n",
       "\n",
       "    .dataframe thead th {\n",
       "        text-align: right;\n",
       "    }\n",
       "</style>\n",
       "<table border=\"1\" class=\"dataframe\">\n",
       "  <thead>\n",
       "    <tr style=\"text-align: right;\">\n",
       "      <th></th>\n",
       "      <th>Restaurant</th>\n",
       "      <th>City</th>\n",
       "      <th>Location</th>\n",
       "      <th>Latitude</th>\n",
       "      <th>Longitude</th>\n",
       "    </tr>\n",
       "  </thead>\n",
       "  <tbody>\n",
       "    <tr>\n",
       "      <th>0</th>\n",
       "      <td>Nafees</td>\n",
       "      <td>Indore</td>\n",
       "      <td>Nafees Indore</td>\n",
       "      <td>22.725745</td>\n",
       "      <td>75.888349</td>\n",
       "    </tr>\n",
       "    <tr>\n",
       "      <th>1</th>\n",
       "      <td>The Lalit</td>\n",
       "      <td>Jaipur</td>\n",
       "      <td>The Lalit Jaipur</td>\n",
       "      <td>26.840202</td>\n",
       "      <td>75.807515</td>\n",
       "    </tr>\n",
       "    <tr>\n",
       "      <th>2</th>\n",
       "      <td>Hotel Mayur</td>\n",
       "      <td>Udaipur</td>\n",
       "      <td>Hotel Mayur Udaipur</td>\n",
       "      <td>24.579616</td>\n",
       "      <td>73.684268</td>\n",
       "    </tr>\n",
       "    <tr>\n",
       "      <th>3</th>\n",
       "      <td>Hotel  Balaji Central</td>\n",
       "      <td>Ratlam</td>\n",
       "      <td>Hotel  Balaji Central Ratlam</td>\n",
       "      <td>23.353903</td>\n",
       "      <td>75.025807</td>\n",
       "    </tr>\n",
       "    <tr>\n",
       "      <th>4</th>\n",
       "      <td>Hotel Sayaji</td>\n",
       "      <td>Indore</td>\n",
       "      <td>Hotel Sayaji Indore</td>\n",
       "      <td>22.752179</td>\n",
       "      <td>75.891044</td>\n",
       "    </tr>\n",
       "  </tbody>\n",
       "</table>\n",
       "</div>"
      ],
      "text/plain": [
       "              Restaurant     City  ...   Latitude  Longitude\n",
       "0                 Nafees   Indore  ...  22.725745  75.888349\n",
       "1              The Lalit   Jaipur  ...  26.840202  75.807515\n",
       "2            Hotel Mayur  Udaipur  ...  24.579616  73.684268\n",
       "3  Hotel  Balaji Central   Ratlam  ...  23.353903  75.025807\n",
       "4           Hotel Sayaji   Indore  ...  22.752179  75.891044\n",
       "\n",
       "[5 rows x 5 columns]"
      ]
     },
     "execution_count": 27,
     "metadata": {},
     "output_type": "execute_result"
    }
   ],
   "source": [
    "data.head()"
   ]
  },
  {
   "cell_type": "code",
   "execution_count": 28,
   "metadata": {
    "colab": {
     "base_uri": "https://localhost:8080/",
     "height": 204
    },
    "id": "kmK6yMKcsXhG",
    "outputId": "41ce6eaf-0b43-48d7-c61a-b84fe528b593"
   },
   "outputs": [
    {
     "data": {
      "text/html": [
       "<div>\n",
       "<style scoped>\n",
       "    .dataframe tbody tr th:only-of-type {\n",
       "        vertical-align: middle;\n",
       "    }\n",
       "\n",
       "    .dataframe tbody tr th {\n",
       "        vertical-align: top;\n",
       "    }\n",
       "\n",
       "    .dataframe thead th {\n",
       "        text-align: right;\n",
       "    }\n",
       "</style>\n",
       "<table border=\"1\" class=\"dataframe\">\n",
       "  <thead>\n",
       "    <tr style=\"text-align: right;\">\n",
       "      <th></th>\n",
       "      <th>Latitude</th>\n",
       "      <th>Longitude</th>\n",
       "    </tr>\n",
       "  </thead>\n",
       "  <tbody>\n",
       "    <tr>\n",
       "      <th>0</th>\n",
       "      <td>22.725745</td>\n",
       "      <td>75.888349</td>\n",
       "    </tr>\n",
       "    <tr>\n",
       "      <th>1</th>\n",
       "      <td>26.840202</td>\n",
       "      <td>75.807515</td>\n",
       "    </tr>\n",
       "    <tr>\n",
       "      <th>2</th>\n",
       "      <td>24.579616</td>\n",
       "      <td>73.684268</td>\n",
       "    </tr>\n",
       "    <tr>\n",
       "      <th>3</th>\n",
       "      <td>23.353903</td>\n",
       "      <td>75.025807</td>\n",
       "    </tr>\n",
       "    <tr>\n",
       "      <th>4</th>\n",
       "      <td>22.752179</td>\n",
       "      <td>75.891044</td>\n",
       "    </tr>\n",
       "  </tbody>\n",
       "</table>\n",
       "</div>"
      ],
      "text/plain": [
       "    Latitude  Longitude\n",
       "0  22.725745  75.888349\n",
       "1  26.840202  75.807515\n",
       "2  24.579616  73.684268\n",
       "3  23.353903  75.025807\n",
       "4  22.752179  75.891044"
      ]
     },
     "execution_count": 28,
     "metadata": {},
     "output_type": "execute_result"
    }
   ],
   "source": [
    "newdata=data.drop(columns=['City',\"Restaurant\",\"Location\"])\n",
    "newdata.head()"
   ]
  },
  {
   "cell_type": "code",
   "execution_count": 29,
   "metadata": {
    "colab": {
     "base_uri": "https://localhost:8080/"
    },
    "id": "9qGPDJ6Msdfy",
    "outputId": "a930953b-a53c-409b-fba9-63e6d88e2083"
   },
   "outputs": [
    {
     "data": {
      "text/plain": [
       "array([[0.00000000e+00, 4.11525072e+00, 2.88007133e+00, 1.06703375e+00,\n",
       "        2.65703288e-02, 4.11782919e+00, 4.83090054e+00, 4.61950826e+00,\n",
       "        1.60366857e+00, 1.71012453e-02, 4.21315691e+00, 4.74998826e+00,\n",
       "        9.89005031e+00, 4.45969058e+00, 1.58440051e+00, 4.86144129e+01,\n",
       "        9.90257510e+00, 4.66463955e+00],\n",
       "       [4.11525072e+00, 0.00000000e+00, 3.10135904e+00, 3.57286294e+00,\n",
       "        4.08887672e+00, 1.36015244e-02, 8.39548274e+00, 8.50204792e+00,\n",
       "        3.97387252e+00, 4.09896508e+00, 9.80202227e-02, 8.30031607e+00,\n",
       "        1.39719292e+01, 8.31556948e+00, 3.93090133e+00, 4.98753932e+01,\n",
       "        1.39826316e+01, 8.53693348e+00],\n",
       "       [2.88007133e+00, 3.10135904e+00, 0.00000000e+00, 1.81716805e+00,\n",
       "        2.86520314e+00, 3.09387339e+00, 5.65191337e+00, 6.02982066e+00,\n",
       "        3.97794778e+00, 2.87330527e+00, 3.16886301e+00, 5.55290928e+00,\n",
       "        1.22339991e+01, 5.82447216e+00, 3.93725348e+00, 5.12259685e+01,\n",
       "        1.22524535e+01, 6.05043072e+00],\n",
       "       [1.06703375e+00, 3.57286294e+00, 1.81716805e+00, 0.00000000e+00,\n",
       "        1.05390111e+00, 3.57219384e+00, 4.88586946e+00, 4.92926658e+00,\n",
       "        2.39668945e+00, 1.06145906e+00, 3.66692382e+00, 4.79427109e+00,\n",
       "        1.06818709e+01, 4.74357850e+00, 2.36371382e+00, 4.96077964e+01,\n",
       "        1.06971509e+01, 4.96445018e+00],\n",
       "       [2.65703288e-02, 4.08887672e+00, 2.86520314e+00, 1.05390111e+00,\n",
       "        0.00000000e+00, 4.09146582e+00, 4.85305275e+00, 4.64454623e+00,\n",
       "        1.59334737e+00, 1.02815809e-02, 4.18678657e+00, 4.77196330e+00,\n",
       "        9.91564030e+00, 4.48445085e+00, 1.57344874e+00, 4.86183942e+01,\n",
       "        9.92813589e+00, 4.68959610e+00],\n",
       "       [4.11782919e+00, 1.36015244e-02, 3.09387339e+00, 3.57219384e+00,\n",
       "        4.09146582e+00, 0.00000000e+00, 8.39286697e+00, 8.50129394e+00,\n",
       "        3.98141904e+00, 4.10156060e+00, 9.57316362e-02, 8.29765504e+00,\n",
       "        1.39759055e+01, 8.31465907e+00, 3.93840462e+00, 4.98888170e+01,\n",
       "        1.39866458e+01, 8.53609839e+00],\n",
       "       [4.83090054e+00, 8.39548274e+00, 5.65191337e+00, 4.88586946e+00,\n",
       "        4.85305275e+00, 8.39286697e+00, 0.00000000e+00, 1.17030347e+00,\n",
       "        6.23612685e+00, 4.84666768e+00, 8.48458778e+00, 9.93104471e-02,\n",
       "        7.66549909e+00, 1.05939967e+00, 6.23571430e+00, 5.08450433e+01,\n",
       "        7.69567322e+00, 1.12631692e+00],\n",
       "       [4.61950826e+00, 8.50204792e+00, 6.02982066e+00, 4.92926658e+00,\n",
       "        4.64454623e+00, 8.50129394e+00, 1.17030347e+00, 0.00000000e+00,\n",
       "        5.83080623e+00, 4.63640777e+00, 8.59590434e+00, 1.20433088e+00,\n",
       "        6.67274206e+00, 2.10211307e-01, 5.83867059e+00, 4.97036529e+01,\n",
       "        6.70027984e+00, 6.16791580e-02],\n",
       "       [1.60366857e+00, 3.97387252e+00, 3.97794778e+00, 2.39668945e+00,\n",
       "        1.59334737e+00, 3.98141904e+00, 6.23612685e+00, 5.83080623e+00,\n",
       "        0.00000000e+00, 1.59414896e+00, 4.06612765e+00, 6.16406945e+00,\n",
       "        1.02281279e+01, 5.70167460e+00, 4.55665345e-02, 4.72605159e+01,\n",
       "        1.02342597e+01, 5.88342441e+00],\n",
       "       [1.71012453e-02, 4.09896508e+00, 2.87330527e+00, 1.06145906e+00,\n",
       "        1.02815809e-02, 4.10156060e+00, 4.84666768e+00, 4.63640777e+00,\n",
       "        1.59414896e+00, 0.00000000e+00, 4.19687714e+00, 4.76567487e+00,\n",
       "        9.90536882e+00, 4.47650388e+00, 1.57451575e+00, 4.86137650e+01,\n",
       "        9.91786265e+00, 4.68151469e+00],\n",
       "       [4.21315691e+00, 9.80202227e-02, 3.16886301e+00, 3.66692382e+00,\n",
       "        4.18678657e+00, 9.57316362e-02, 8.48458778e+00, 8.59590434e+00,\n",
       "        4.06612765e+00, 4.19687714e+00, 0.00000000e+00, 8.38928358e+00,\n",
       "        1.40697841e+01, 8.40909645e+00, 4.02328282e+00, 4.99136249e+01,\n",
       "        1.40804696e+01, 8.63062021e+00],\n",
       "       [4.74998826e+00, 8.30031607e+00, 5.55290928e+00, 4.79427109e+00,\n",
       "        4.77196330e+00, 8.29765504e+00, 9.93104471e-02, 1.20433088e+00,\n",
       "        6.16406945e+00, 4.76567487e+00, 8.38928358e+00, 0.00000000e+00,\n",
       "        7.73883072e+00, 1.07867924e+00, 6.16315662e+00, 5.08540601e+01,\n",
       "        7.76874874e+00, 1.16391552e+00],\n",
       "       [9.89005031e+00, 1.39719292e+01, 1.22339991e+01, 1.06818709e+01,\n",
       "        9.91564030e+00, 1.39759055e+01, 7.66549909e+00, 6.67274206e+00,\n",
       "        1.02281279e+01, 9.90536882e+00, 1.40697841e+01, 7.73883072e+00,\n",
       "        0.00000000e+00, 6.87169044e+00, 1.02618457e+01, 4.54582311e+01,\n",
       "        4.20717031e-02, 6.68585646e+00],\n",
       "       [4.45969058e+00, 8.31556948e+00, 5.82447216e+00, 4.74357850e+00,\n",
       "        4.48445085e+00, 8.31465907e+00, 1.05939967e+00, 2.10211307e-01,\n",
       "        5.70167460e+00, 4.47650388e+00, 8.40909645e+00, 1.07867924e+00,\n",
       "        6.87169044e+00, 0.00000000e+00, 5.70824941e+00, 4.97875672e+01,\n",
       "        6.89890641e+00, 2.26282606e-01],\n",
       "       [1.58440051e+00, 3.93090133e+00, 3.93725348e+00, 2.36371382e+00,\n",
       "        1.57344874e+00, 3.93840462e+00, 6.23571430e+00, 5.83867059e+00,\n",
       "        4.55665345e-02, 1.57451575e+00, 4.02328282e+00, 6.16315662e+00,\n",
       "        1.02618457e+01, 5.70824941e+00, 0.00000000e+00, 4.72994485e+01,\n",
       "        1.02681016e+01, 5.89104066e+00],\n",
       "       [4.86144129e+01, 4.98753932e+01, 5.12259685e+01, 4.96077964e+01,\n",
       "        4.86183942e+01, 4.98888170e+01, 5.08450433e+01, 4.97036529e+01,\n",
       "        4.72605159e+01, 4.86137650e+01, 4.99136249e+01, 5.08540601e+01,\n",
       "        4.54582311e+01, 4.97875672e+01, 4.72994485e+01, 0.00000000e+00,\n",
       "        4.54162841e+01, 4.97567916e+01],\n",
       "       [9.90257510e+00, 1.39826316e+01, 1.22524535e+01, 1.06971509e+01,\n",
       "        9.92813589e+00, 1.39866458e+01, 7.69567322e+00, 6.70027984e+00,\n",
       "        1.02342597e+01, 9.91786265e+00, 1.40804696e+01, 7.76874874e+00,\n",
       "        4.20717031e-02, 6.89890641e+00, 1.02681016e+01, 4.54162841e+01,\n",
       "        0.00000000e+00, 6.71367939e+00],\n",
       "       [4.66463955e+00, 8.53693348e+00, 6.05043072e+00, 4.96445018e+00,\n",
       "        4.68959610e+00, 8.53609839e+00, 1.12631692e+00, 6.16791580e-02,\n",
       "        5.88342441e+00, 4.68151469e+00, 8.63062021e+00, 1.16391552e+00,\n",
       "        6.68585646e+00, 2.26282606e-01, 5.89104066e+00, 4.97567916e+01,\n",
       "        6.71367939e+00, 0.00000000e+00]])"
      ]
     },
     "execution_count": 29,
     "metadata": {},
     "output_type": "execute_result"
    }
   ],
   "source": [
    "from sklearn.metrics.pairwise import euclidean_distances\n",
    "result=euclidean_distances(newdata)\n",
    "result"
   ]
  },
  {
   "cell_type": "code",
   "execution_count": 30,
   "metadata": {
    "id": "e08STXzGsmS-"
   },
   "outputs": [],
   "source": [
    "import pandas\n",
    "df=pandas.DataFrame(result)"
   ]
  },
  {
   "cell_type": "code",
   "execution_count": 40,
   "metadata": {
    "colab": {
     "base_uri": "https://localhost:8080/"
    },
    "id": "2_7knjZJsqyD",
    "outputId": "65f07eee-3ee9-41f1-9114-9cbd204a31d5"
   },
   "outputs": [
    {
     "name": "stdout",
     "output_type": "stream",
     "text": [
      "enter the Location :Nafees Indore\n"
     ]
    }
   ],
   "source": [
    "Location=input(\"enter the Location :\")"
   ]
  },
  {
   "cell_type": "code",
   "execution_count": 41,
   "metadata": {
    "colab": {
     "base_uri": "https://localhost:8080/"
    },
    "id": "ob0wB9NNs3jk",
    "outputId": "928b8a3d-e3be-4724-efb7-9bd24199a1d1"
   },
   "outputs": [
    {
     "data": {
      "text/plain": [
       "Int64Index([0], dtype='int64')"
      ]
     },
     "execution_count": 41,
     "metadata": {},
     "output_type": "execute_result"
    }
   ],
   "source": [
    "search=data.index[data[\"Location\"]==Location]\n",
    "search"
   ]
  },
  {
   "cell_type": "code",
   "execution_count": 43,
   "metadata": {
    "colab": {
     "base_uri": "https://localhost:8080/"
    },
    "id": "pH7ym7rJs9wF",
    "outputId": "4c91b80f-edeb-488f-d040-7e2276d98a83"
   },
   "outputs": [
    {
     "data": {
      "text/plain": [
       "0"
      ]
     },
     "execution_count": 43,
     "metadata": {},
     "output_type": "execute_result"
    }
   ],
   "source": [
    "value=search[0]\n",
    "value"
   ]
  },
  {
   "cell_type": "code",
   "execution_count": 44,
   "metadata": {
    "colab": {
     "base_uri": "https://localhost:8080/"
    },
    "id": "pvSvWSm1tUGZ",
    "outputId": "8e619709-1a95-40b4-b28f-4e699f557f93"
   },
   "outputs": [
    {
     "data": {
      "text/plain": [
       "0      0.000000\n",
       "1      4.115251\n",
       "2      2.880071\n",
       "3      1.067034\n",
       "4      0.026570\n",
       "5      4.117829\n",
       "6      4.830901\n",
       "7      4.619508\n",
       "8      1.603669\n",
       "9      0.017101\n",
       "10     4.213157\n",
       "11     4.749988\n",
       "12     9.890050\n",
       "13     4.459691\n",
       "14     1.584401\n",
       "15    48.614413\n",
       "16     9.902575\n",
       "17     4.664640\n",
       "Name: 0, dtype: float64"
      ]
     },
     "execution_count": 44,
     "metadata": {},
     "output_type": "execute_result"
    }
   ],
   "source": [
    "ans=df.iloc[value]\n",
    "ans"
   ]
  },
  {
   "cell_type": "code",
   "execution_count": 45,
   "metadata": {
    "id": "0_o27PHNtbOF"
   },
   "outputs": [],
   "source": [
    "import numpy\n",
    "sim = numpy.argsort(ans)[0:4]"
   ]
  },
  {
   "cell_type": "code",
   "execution_count": 46,
   "metadata": {
    "colab": {
     "base_uri": "https://localhost:8080/"
    },
    "id": "cmYqzLbytbbU",
    "outputId": "342a6317-a4c1-40d9-cf2a-fb06832384a0"
   },
   "outputs": [
    {
     "data": {
      "text/plain": [
       "0    0\n",
       "1    9\n",
       "2    4\n",
       "3    3\n",
       "Name: 0, dtype: int64"
      ]
     },
     "execution_count": 46,
     "metadata": {},
     "output_type": "execute_result"
    }
   ],
   "source": [
    "sim"
   ]
  },
  {
   "cell_type": "code",
   "execution_count": 47,
   "metadata": {
    "colab": {
     "base_uri": "https://localhost:8080/"
    },
    "id": "kiI8HPfstbo5",
    "outputId": "505bb3be-53f8-4e11-a0b3-4e1f5eda21ff"
   },
   "outputs": [
    {
     "name": "stdout",
     "output_type": "stream",
     "text": [
      "Nafees Indore\n",
      "Hotel Amar Vilas Indore\n",
      "Hotel Sayaji Indore\n",
      "Hotel  Balaji Central Ratlam\n"
     ]
    }
   ],
   "source": [
    "for i in range(4):\n",
    "    print(data['Location'][sim[i]])"
   ]
  },
  {
   "cell_type": "code",
   "execution_count": 48,
   "metadata": {
    "id": "6LBC6lkzrfp-"
   },
   "outputs": [],
   "source": [
    "from geopy.geocoders import Nominatim"
   ]
  },
  {
   "cell_type": "code",
   "execution_count": 49,
   "metadata": {
    "id": "gt8PjOPLrf5N"
   },
   "outputs": [],
   "source": [
    "geocoder = Nominatim(user_agent = \"Surabhi\")"
   ]
  },
  {
   "cell_type": "code",
   "execution_count": 50,
   "metadata": {
    "id": "xrYEzCkuqutu"
   },
   "outputs": [],
   "source": [
    "from geopy.extra.rate_limiter import RateLimiter\n",
    "geocode = RateLimiter(geocoder.geocode, min_delay_seconds = 1, return_value_on_exception = None)"
   ]
  },
  {
   "cell_type": "code",
   "execution_count": 51,
   "metadata": {
    "colab": {
     "base_uri": "https://localhost:8080/"
    },
    "id": "1lVJKtRqqu8l",
    "outputId": "407ad0d8-4eee-4b4f-ce15-7f4d2bd32458"
   },
   "outputs": [
    {
     "data": {
      "text/plain": [
       "Location(Sayaji VijayNagar Bus Stop, MR10, Indore, Indore Tahsil, Indore, Madhya Pradesh, 452001, India, (22.7521786, 75.8910442, 0.0))"
      ]
     },
     "execution_count": 51,
     "metadata": {},
     "output_type": "execute_result"
    }
   ],
   "source": [
    "geocode(\"Hotel Sayaji Indore\")"
   ]
  },
  {
   "cell_type": "code",
   "execution_count": 52,
   "metadata": {
    "id": "Lis0wZMfqvGY"
   },
   "outputs": [],
   "source": [
    "data [\"Location\"] =data[\"Restaurant\"] +\" \" +data[\"City\"]"
   ]
  },
  {
   "cell_type": "code",
   "execution_count": 53,
   "metadata": {
    "colab": {
     "base_uri": "https://localhost:8080/"
    },
    "id": "FLICQqT7q72-",
    "outputId": "ec13d634-c52c-4738-a14f-50d3c18a0d35"
   },
   "outputs": [
    {
     "data": {
      "text/plain": [
       "Location(Amar Vilas, MR 9, Indore, Indore Tahsil, Indore, Madhya Pradesh, 452001, India, (22.7421334, 75.8932362, 0.0))"
      ]
     },
     "execution_count": 53,
     "metadata": {},
     "output_type": "execute_result"
    }
   ],
   "source": [
    "geocode(\"Hotel Amar Vilas Indore\")"
   ]
  },
  {
   "cell_type": "code",
   "execution_count": 54,
   "metadata": {
    "id": "1qJDve7sq8B1"
   },
   "outputs": [],
   "source": [
    "data['Latitude']=data['Location'].apply(lambda x: geocode(x).latitude)"
   ]
  },
  {
   "cell_type": "code",
   "execution_count": 55,
   "metadata": {
    "id": "t4p39IUZqvpg"
   },
   "outputs": [],
   "source": [
    "data['Longitude']=data['Location'].apply(lambda x: geocode(x).longitude)"
   ]
  },
  {
   "cell_type": "code",
   "execution_count": 56,
   "metadata": {
    "colab": {
     "base_uri": "https://localhost:8080/",
     "height": 204
    },
    "id": "ck0g7x0QrSuD",
    "outputId": "472cfb2d-4461-496f-bb11-a1a6f9d10875"
   },
   "outputs": [
    {
     "data": {
      "text/html": [
       "<div>\n",
       "<style scoped>\n",
       "    .dataframe tbody tr th:only-of-type {\n",
       "        vertical-align: middle;\n",
       "    }\n",
       "\n",
       "    .dataframe tbody tr th {\n",
       "        vertical-align: top;\n",
       "    }\n",
       "\n",
       "    .dataframe thead th {\n",
       "        text-align: right;\n",
       "    }\n",
       "</style>\n",
       "<table border=\"1\" class=\"dataframe\">\n",
       "  <thead>\n",
       "    <tr style=\"text-align: right;\">\n",
       "      <th></th>\n",
       "      <th>Restaurant</th>\n",
       "      <th>City</th>\n",
       "      <th>Location</th>\n",
       "      <th>Latitude</th>\n",
       "      <th>Longitude</th>\n",
       "    </tr>\n",
       "  </thead>\n",
       "  <tbody>\n",
       "    <tr>\n",
       "      <th>0</th>\n",
       "      <td>Nafees</td>\n",
       "      <td>Indore</td>\n",
       "      <td>Nafees Indore</td>\n",
       "      <td>22.725745</td>\n",
       "      <td>75.888349</td>\n",
       "    </tr>\n",
       "    <tr>\n",
       "      <th>1</th>\n",
       "      <td>The Lalit</td>\n",
       "      <td>Jaipur</td>\n",
       "      <td>The Lalit Jaipur</td>\n",
       "      <td>26.840202</td>\n",
       "      <td>75.807515</td>\n",
       "    </tr>\n",
       "    <tr>\n",
       "      <th>2</th>\n",
       "      <td>Hotel Mayur</td>\n",
       "      <td>Udaipur</td>\n",
       "      <td>Hotel Mayur Udaipur</td>\n",
       "      <td>24.579616</td>\n",
       "      <td>73.684268</td>\n",
       "    </tr>\n",
       "    <tr>\n",
       "      <th>3</th>\n",
       "      <td>Hotel  Balaji Central</td>\n",
       "      <td>Ratlam</td>\n",
       "      <td>Hotel  Balaji Central Ratlam</td>\n",
       "      <td>23.353903</td>\n",
       "      <td>75.025807</td>\n",
       "    </tr>\n",
       "    <tr>\n",
       "      <th>4</th>\n",
       "      <td>Hotel Sayaji</td>\n",
       "      <td>Indore</td>\n",
       "      <td>Hotel Sayaji Indore</td>\n",
       "      <td>22.752179</td>\n",
       "      <td>75.891044</td>\n",
       "    </tr>\n",
       "  </tbody>\n",
       "</table>\n",
       "</div>"
      ],
      "text/plain": [
       "              Restaurant     City  ...   Latitude  Longitude\n",
       "0                 Nafees   Indore  ...  22.725745  75.888349\n",
       "1              The Lalit   Jaipur  ...  26.840202  75.807515\n",
       "2            Hotel Mayur  Udaipur  ...  24.579616  73.684268\n",
       "3  Hotel  Balaji Central   Ratlam  ...  23.353903  75.025807\n",
       "4           Hotel Sayaji   Indore  ...  22.752179  75.891044\n",
       "\n",
       "[5 rows x 5 columns]"
      ]
     },
     "execution_count": 56,
     "metadata": {},
     "output_type": "execute_result"
    }
   ],
   "source": [
    "data.head()"
   ]
  },
  {
   "cell_type": "code",
   "execution_count": 57,
   "metadata": {
    "colab": {
     "base_uri": "https://localhost:8080/",
     "height": 204
    },
    "id": "cOfnprraqfrk",
    "outputId": "8cc00dc6-770c-48b6-e32c-de69c10b964b"
   },
   "outputs": [
    {
     "data": {
      "text/html": [
       "<div>\n",
       "<style scoped>\n",
       "    .dataframe tbody tr th:only-of-type {\n",
       "        vertical-align: middle;\n",
       "    }\n",
       "\n",
       "    .dataframe tbody tr th {\n",
       "        vertical-align: top;\n",
       "    }\n",
       "\n",
       "    .dataframe thead th {\n",
       "        text-align: right;\n",
       "    }\n",
       "</style>\n",
       "<table border=\"1\" class=\"dataframe\">\n",
       "  <thead>\n",
       "    <tr style=\"text-align: right;\">\n",
       "      <th></th>\n",
       "      <th>Latitude</th>\n",
       "      <th>Longitude</th>\n",
       "    </tr>\n",
       "  </thead>\n",
       "  <tbody>\n",
       "    <tr>\n",
       "      <th>0</th>\n",
       "      <td>22.725745</td>\n",
       "      <td>75.888349</td>\n",
       "    </tr>\n",
       "    <tr>\n",
       "      <th>1</th>\n",
       "      <td>26.840202</td>\n",
       "      <td>75.807515</td>\n",
       "    </tr>\n",
       "    <tr>\n",
       "      <th>2</th>\n",
       "      <td>24.579616</td>\n",
       "      <td>73.684268</td>\n",
       "    </tr>\n",
       "    <tr>\n",
       "      <th>3</th>\n",
       "      <td>23.353903</td>\n",
       "      <td>75.025807</td>\n",
       "    </tr>\n",
       "    <tr>\n",
       "      <th>4</th>\n",
       "      <td>22.752179</td>\n",
       "      <td>75.891044</td>\n",
       "    </tr>\n",
       "  </tbody>\n",
       "</table>\n",
       "</div>"
      ],
      "text/plain": [
       "    Latitude  Longitude\n",
       "0  22.725745  75.888349\n",
       "1  26.840202  75.807515\n",
       "2  24.579616  73.684268\n",
       "3  23.353903  75.025807\n",
       "4  22.752179  75.891044"
      ]
     },
     "execution_count": 57,
     "metadata": {},
     "output_type": "execute_result"
    }
   ],
   "source": [
    "newdata=data.drop(columns=['City',\"Restaurant\",\"Location\"])\n",
    "newdata.head()"
   ]
  },
  {
   "cell_type": "code",
   "execution_count": 58,
   "metadata": {
    "colab": {
     "base_uri": "https://localhost:8080/"
    },
    "id": "V7TOE-uptruh",
    "outputId": "4d87f28c-f867-435b-cfba-a3a55e804586"
   },
   "outputs": [
    {
     "data": {
      "text/plain": [
       "array([[0.00000000e+00, 4.19529066e+00, 4.05795200e+00, 1.49069980e+00,\n",
       "        2.91283000e-02, 4.21099126e+00, 6.79961654e+00, 6.15558828e+00,\n",
       "        2.01121440e+00, 2.12751000e-02, 4.29978600e+00, 6.69309105e+00,\n",
       "        1.14307720e+01, 6.00348813e+00, 2.01320535e+00, 5.91914537e+01,\n",
       "        1.14779065e+01, 6.23548352e+00],\n",
       "       [4.19529066e+00, 0.00000000e+00, 4.38383324e+00, 4.26800744e+00,\n",
       "        4.17155236e+00, 1.57005956e-02, 1.08332394e+01, 1.01892111e+01,\n",
       "        5.24339486e+00, 4.18378956e+00, 1.04495337e-01, 1.07267139e+01,\n",
       "        1.56260627e+01, 1.00371110e+01, 5.17898482e+00, 6.33867444e+01,\n",
       "        1.56731972e+01, 1.02691064e+01],\n",
       "       [4.05795200e+00, 4.38383324e+00, 0.00000000e+00, 2.56725220e+00,\n",
       "        4.03421370e+00, 4.37272044e+00, 6.44940614e+00, 6.24620382e+00,\n",
       "        5.10605620e+00, 4.04645090e+00, 4.47491920e+00, 6.34288065e+00,\n",
       "        1.54887240e+01, 5.99077647e+00, 5.04164615e+00, 6.32494057e+01,\n",
       "        1.55358585e+01, 6.21119828e+00],\n",
       "       [1.49069980e+00, 4.26800744e+00, 2.56725220e+00, 0.00000000e+00,\n",
       "        1.46696150e+00, 4.25689464e+00, 6.56523194e+00, 5.92120368e+00,\n",
       "        2.53880400e+00, 1.47919870e+00, 4.35909340e+00, 6.45870645e+00,\n",
       "        1.29214718e+01, 5.76910353e+00, 2.47439395e+00, 6.06821535e+01,\n",
       "        1.29686063e+01, 6.00109892e+00],\n",
       "       [2.91283000e-02, 4.17155236e+00, 4.03421370e+00, 1.46696150e+00,\n",
       "        0.00000000e+00, 4.18725296e+00, 6.82874484e+00, 6.18471658e+00,\n",
       "        1.98208610e+00, 1.22372000e-02, 4.27604770e+00, 6.72221935e+00,\n",
       "        1.14545103e+01, 6.03261643e+00, 1.98407705e+00, 5.92151920e+01,\n",
       "        1.15016448e+01, 6.26461182e+00],\n",
       "       [4.21099126e+00, 1.57005956e-02, 4.37272044e+00, 4.25689464e+00,\n",
       "        4.18725296e+00, 0.00000000e+00, 1.08221266e+01, 1.01780983e+01,\n",
       "        5.25909546e+00, 4.19949016e+00, 1.02198758e-01, 1.07156011e+01,\n",
       "        1.56417633e+01, 1.00259982e+01, 5.19468541e+00, 6.34024450e+01,\n",
       "        1.56888978e+01, 1.02579936e+01],\n",
       "       [6.79961654e+00, 1.08332394e+01, 6.44940614e+00, 6.56523194e+00,\n",
       "        6.82874484e+00, 1.08221266e+01, 0.00000000e+00, 1.52461406e+00,\n",
       "        8.81083094e+00, 6.82089164e+00, 1.09243253e+01, 1.06525488e-01,\n",
       "        1.07671342e+01, 1.26918671e+00, 8.81282189e+00, 5.85278159e+01,\n",
       "        1.08142688e+01, 1.48960852e+00],\n",
       "       [6.15558828e+00, 1.01892111e+01, 6.24620382e+00, 5.92120368e+00,\n",
       "        6.18471658e+00, 1.01780983e+01, 1.52461406e+00, 0.00000000e+00,\n",
       "        8.16680268e+00, 6.17686338e+00, 1.02802971e+01, 1.61614247e+00,\n",
       "        9.24252018e+00, 2.55427354e-01, 8.16879363e+00, 5.70032019e+01,\n",
       "        9.28965473e+00, 7.98952394e-02],\n",
       "       [2.01121440e+00, 5.24339486e+00, 5.10605620e+00, 2.53880400e+00,\n",
       "        1.98208610e+00, 5.25909546e+00, 8.81083094e+00, 8.16680268e+00,\n",
       "        0.00000000e+00, 1.98993930e+00, 5.34789020e+00, 8.70430545e+00,\n",
       "        1.03826678e+01, 8.01470253e+00, 6.44100477e-02, 5.81433495e+01,\n",
       "        1.04298023e+01, 8.24669792e+00],\n",
       "       [2.12751000e-02, 4.18378956e+00, 4.04645090e+00, 1.47919870e+00,\n",
       "        1.22372000e-02, 4.19949016e+00, 6.82089164e+00, 6.17686338e+00,\n",
       "        1.98993930e+00, 0.00000000e+00, 4.28828490e+00, 6.71436615e+00,\n",
       "        1.14422731e+01, 6.02476323e+00, 1.99193025e+00, 5.92029548e+01,\n",
       "        1.14894076e+01, 6.25675862e+00],\n",
       "       [4.29978600e+00, 1.04495337e-01, 4.47491920e+00, 4.35909340e+00,\n",
       "        4.27604770e+00, 1.02198758e-01, 1.09243253e+01, 1.02802971e+01,\n",
       "        5.34789020e+00, 4.28828490e+00, 0.00000000e+00, 1.08177998e+01,\n",
       "        1.57305580e+01, 1.01281969e+01, 5.28348015e+00, 6.34912397e+01,\n",
       "        1.57776925e+01, 1.03601923e+01],\n",
       "       [6.69309105e+00, 1.07267139e+01, 6.34288065e+00, 6.45870645e+00,\n",
       "        6.72221935e+00, 1.07156011e+01, 1.06525488e-01, 1.61614247e+00,\n",
       "        8.70430545e+00, 6.71436615e+00, 1.08177998e+01, 0.00000000e+00,\n",
       "        1.08586626e+01, 1.36071512e+00, 8.70629640e+00, 5.86193443e+01,\n",
       "        1.09057972e+01, 1.58113693e+00],\n",
       "       [1.14307720e+01, 1.56260627e+01, 1.54887240e+01, 1.29214718e+01,\n",
       "        1.14545103e+01, 1.56417633e+01, 1.07671342e+01, 9.24252018e+00,\n",
       "        1.03826678e+01, 1.14422731e+01, 1.57305580e+01, 1.08586626e+01,\n",
       "        0.00000000e+00, 9.49794753e+00, 1.04470778e+01, 4.77606817e+01,\n",
       "        4.71345495e-02, 9.27752572e+00],\n",
       "       [6.00348813e+00, 1.00371110e+01, 5.99077647e+00, 5.76910353e+00,\n",
       "        6.03261643e+00, 1.00259982e+01, 1.26918671e+00, 2.55427354e-01,\n",
       "        8.01470253e+00, 6.02476323e+00, 1.01281969e+01, 1.36071512e+00,\n",
       "        9.49794753e+00, 0.00000000e+00, 8.01669348e+00, 5.72586292e+01,\n",
       "        9.54508208e+00, 2.31995386e-01],\n",
       "       [2.01320535e+00, 5.17898482e+00, 5.04164615e+00, 2.47439395e+00,\n",
       "        1.98407705e+00, 5.19468541e+00, 8.81282189e+00, 8.16879363e+00,\n",
       "        6.44100477e-02, 1.99193025e+00, 5.28348015e+00, 8.70629640e+00,\n",
       "        1.04470778e+01, 8.01669348e+00, 0.00000000e+00, 5.82077595e+01,\n",
       "        1.04942124e+01, 8.24868887e+00],\n",
       "       [5.91914537e+01, 6.33867444e+01, 6.32494057e+01, 6.06821535e+01,\n",
       "        5.92151920e+01, 6.34024450e+01, 5.85278159e+01, 5.70032019e+01,\n",
       "        5.81433495e+01, 5.92029548e+01, 6.34912397e+01, 5.86193443e+01,\n",
       "        4.77606817e+01, 5.72586292e+01, 5.82077595e+01, 0.00000000e+00,\n",
       "        4.77135472e+01, 5.70382074e+01],\n",
       "       [1.14779065e+01, 1.56731972e+01, 1.55358585e+01, 1.29686063e+01,\n",
       "        1.15016448e+01, 1.56888978e+01, 1.08142688e+01, 9.28965473e+00,\n",
       "        1.04298023e+01, 1.14894076e+01, 1.57776925e+01, 1.09057972e+01,\n",
       "        4.71345495e-02, 9.54508208e+00, 1.04942124e+01, 4.77135472e+01,\n",
       "        0.00000000e+00, 9.32466026e+00],\n",
       "       [6.23548352e+00, 1.02691064e+01, 6.21119828e+00, 6.00109892e+00,\n",
       "        6.26461182e+00, 1.02579936e+01, 1.48960852e+00, 7.98952394e-02,\n",
       "        8.24669792e+00, 6.25675862e+00, 1.03601923e+01, 1.58113693e+00,\n",
       "        9.27752572e+00, 2.31995386e-01, 8.24868887e+00, 5.70382074e+01,\n",
       "        9.32466026e+00, 0.00000000e+00]])"
      ]
     },
     "execution_count": 58,
     "metadata": {},
     "output_type": "execute_result"
    }
   ],
   "source": [
    "from sklearn.metrics.pairwise import manhattan_distances\n",
    "result=manhattan_distances(newdata)\n",
    "result"
   ]
  },
  {
   "cell_type": "code",
   "execution_count": 59,
   "metadata": {
    "id": "z-cTkZjBtb0t"
   },
   "outputs": [],
   "source": [
    "import pandas\n",
    "df=pandas.DataFrame(result)"
   ]
  },
  {
   "cell_type": "code",
   "execution_count": 60,
   "metadata": {
    "colab": {
     "base_uri": "https://localhost:8080/"
    },
    "id": "JtGcRLNvuNky",
    "outputId": "00582147-a237-4c27-aad7-ec31867b6846"
   },
   "outputs": [
    {
     "name": "stdout",
     "output_type": "stream",
     "text": [
      "enter the Location :The Lalit Jaipur\n"
     ]
    }
   ],
   "source": [
    "Location=input(\"enter the Location :\")"
   ]
  },
  {
   "cell_type": "code",
   "execution_count": 61,
   "metadata": {
    "colab": {
     "base_uri": "https://localhost:8080/"
    },
    "id": "sAmRFCIMuN9l",
    "outputId": "29ab1e52-3b5e-4a4e-fbc4-c822d007e713"
   },
   "outputs": [
    {
     "data": {
      "text/plain": [
       "Int64Index([1], dtype='int64')"
      ]
     },
     "execution_count": 61,
     "metadata": {},
     "output_type": "execute_result"
    }
   ],
   "source": [
    "search=data.index[data[\"Location\"]==Location]\n",
    "search"
   ]
  },
  {
   "cell_type": "code",
   "execution_count": 63,
   "metadata": {
    "colab": {
     "base_uri": "https://localhost:8080/"
    },
    "id": "wdAWaiAfuONL",
    "outputId": "9611e926-d26d-4b7b-85c8-80b016ae31f3"
   },
   "outputs": [
    {
     "data": {
      "text/plain": [
       "1"
      ]
     },
     "execution_count": 63,
     "metadata": {},
     "output_type": "execute_result"
    }
   ],
   "source": [
    "value=search[0]\n",
    "value"
   ]
  },
  {
   "cell_type": "code",
   "execution_count": 64,
   "metadata": {
    "colab": {
     "base_uri": "https://localhost:8080/"
    },
    "id": "hxhbyAs5uiiW",
    "outputId": "03a15103-5062-4241-f8a1-f46d3e16a286"
   },
   "outputs": [
    {
     "data": {
      "text/plain": [
       "0      4.195291\n",
       "1      0.000000\n",
       "2      4.383833\n",
       "3      4.268007\n",
       "4      4.171552\n",
       "5      0.015701\n",
       "6     10.833239\n",
       "7     10.189211\n",
       "8      5.243395\n",
       "9      4.183790\n",
       "10     0.104495\n",
       "11    10.726714\n",
       "12    15.626063\n",
       "13    10.037111\n",
       "14     5.178985\n",
       "15    63.386744\n",
       "16    15.673197\n",
       "17    10.269106\n",
       "Name: 1, dtype: float64"
      ]
     },
     "execution_count": 64,
     "metadata": {},
     "output_type": "execute_result"
    }
   ],
   "source": [
    "ans=df.iloc[value]\n",
    "ans"
   ]
  },
  {
   "cell_type": "code",
   "execution_count": 65,
   "metadata": {
    "id": "VWC0qaEzujBH"
   },
   "outputs": [],
   "source": [
    "import numpy\n",
    "sim = numpy.argsort(ans)[0:4]"
   ]
  },
  {
   "cell_type": "code",
   "execution_count": 66,
   "metadata": {
    "colab": {
     "base_uri": "https://localhost:8080/"
    },
    "id": "0jTKNY3JujLT",
    "outputId": "e4b7337c-1c7c-48fa-8419-47d1f2ace2df"
   },
   "outputs": [
    {
     "data": {
      "text/plain": [
       "0     1\n",
       "1     5\n",
       "2    10\n",
       "3     4\n",
       "Name: 1, dtype: int64"
      ]
     },
     "execution_count": 66,
     "metadata": {},
     "output_type": "execute_result"
    }
   ],
   "source": [
    "sim"
   ]
  },
  {
   "cell_type": "code",
   "execution_count": 67,
   "metadata": {
    "colab": {
     "base_uri": "https://localhost:8080/"
    },
    "id": "BERAPvYPurqq",
    "outputId": "2cba2dcf-8cf8-40fe-bb6f-bf6e4ee62aa1"
   },
   "outputs": [
    {
     "name": "stdout",
     "output_type": "stream",
     "text": [
      "The Lalit Jaipur\n",
      "Radisson Blu Jaipur\n",
      "Hotel Goyal Jaipur\n",
      "Hotel Sayaji Indore\n"
     ]
    }
   ],
   "source": [
    "for i in range(4):\n",
    "    print(data['Location'][sim[i]])"
   ]
  },
  {
   "cell_type": "code",
   "execution_count": null,
   "metadata": {
    "id": "bZvEFxeewegn"
   },
   "outputs": [],
   "source": []
  },
  {
   "cell_type": "code",
   "execution_count": null,
   "metadata": {
    "id": "brerV-rLwsQg"
   },
   "outputs": [],
   "source": []
  },
  {
   "cell_type": "code",
   "execution_count": null,
   "metadata": {
    "id": "eAu2NJyDwsTo"
   },
   "outputs": [],
   "source": []
  },
  {
   "cell_type": "code",
   "execution_count": null,
   "metadata": {
    "id": "cGq5v90EwsWz"
   },
   "outputs": [],
   "source": []
  },
  {
   "cell_type": "code",
   "execution_count": null,
   "metadata": {
    "id": "NsagJCx-wsY1"
   },
   "outputs": [],
   "source": []
  },
  {
   "cell_type": "code",
   "execution_count": null,
   "metadata": {
    "id": "1ukz3eWawsfA"
   },
   "outputs": [],
   "source": []
  },
  {
   "cell_type": "code",
   "execution_count": null,
   "metadata": {
    "id": "WvIENsO2weu1"
   },
   "outputs": [],
   "source": []
  },
  {
   "cell_type": "code",
   "execution_count": null,
   "metadata": {
    "id": "EpwQ6WlJwe3P"
   },
   "outputs": [],
   "source": []
  },
  {
   "cell_type": "code",
   "execution_count": null,
   "metadata": {
    "id": "GMMm5Wlmwe4x"
   },
   "outputs": [],
   "source": []
  },
  {
   "cell_type": "code",
   "execution_count": null,
   "metadata": {
    "id": "BgDgoqTTwe8u"
   },
   "outputs": [],
   "source": []
  },
  {
   "cell_type": "code",
   "execution_count": null,
   "metadata": {
    "id": "n06v6dbAwe-v"
   },
   "outputs": [],
   "source": []
  },
  {
   "cell_type": "code",
   "execution_count": null,
   "metadata": {
    "id": "p-nD8n17wfDB"
   },
   "outputs": [],
   "source": []
  },
  {
   "cell_type": "code",
   "execution_count": null,
   "metadata": {
    "id": "fR9_a98UwfIn"
   },
   "outputs": [],
   "source": []
  },
  {
   "cell_type": "code",
   "execution_count": null,
   "metadata": {
    "id": "BLPRyS_twfLQ"
   },
   "outputs": [],
   "source": []
  }
 ],
 "metadata": {
  "colab": {
   "collapsed_sections": [],
   "name": "Recommandation system text analysis ",
   "provenance": []
  },
  "kernelspec": {
   "display_name": "Python 3",
   "language": "python",
   "name": "python3"
  },
  "language_info": {
   "codemirror_mode": {
    "name": "ipython",
    "version": 3
   },
   "file_extension": ".py",
   "mimetype": "text/x-python",
   "name": "python",
   "nbconvert_exporter": "python",
   "pygments_lexer": "ipython3",
   "version": "3.8.8"
  }
 },
 "nbformat": 4,
 "nbformat_minor": 1
}
